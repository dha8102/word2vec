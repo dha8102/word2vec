{
 "cells": [
  {
   "cell_type": "code",
   "execution_count": 1,
   "metadata": {},
   "outputs": [],
   "source": [
    "import tensorflow as tf\n",
    "import numpy as np\n",
    "import collections\n",
    "import random\n",
    "tf.set_random_seed(777)"
   ]
  },
  {
   "cell_type": "code",
   "execution_count": 2,
   "metadata": {},
   "outputs": [],
   "source": [
    "f = open(\"../text8\", 'r', encoding='UTF8')\n",
    "line = f.readline().split()\n",
    "f.close()"
   ]
  },
  {
   "cell_type": "code",
   "execution_count": 3,
   "metadata": {},
   "outputs": [],
   "source": [
    "dictionary = {}\n",
    "count = {}\n",
    "vocabulary = []\n",
    "data = []\n",
    "reverse_dictionary = {}"
   ]
  },
  {
   "cell_type": "code",
   "execution_count": 4,
   "metadata": {},
   "outputs": [
    {
     "name": "stdout",
     "output_type": "stream",
     "text": [
      "253854\n"
     ]
    }
   ],
   "source": [
    "# dictionary 생성\n",
    "dic_cnt = 0\n",
    "for i in line :\n",
    "    if i not in dictionary.keys() :\n",
    "        dictionary[i] = dic_cnt\n",
    "        dic_cnt += 1\n",
    "    if i in count.keys() : \n",
    "        count[i] += 1\n",
    "    else :\n",
    "        count[i] = 1\n",
    "    vocabulary.append(i)\n",
    "    data.append(dictionary[i])\n",
    "print(len(dictionary))"
   ]
  },
  {
   "cell_type": "code",
   "execution_count": 5,
   "metadata": {},
   "outputs": [],
   "source": [
    "for i in dictionary.keys() :\n",
    "    reverse_dictionary[dictionary[i]] = i"
   ]
  },
  {
   "cell_type": "code",
   "execution_count": 6,
   "metadata": {},
   "outputs": [
    {
     "name": "stdout",
     "output_type": "stream",
     "text": [
      "17005207\n"
     ]
    }
   ],
   "source": [
    "print(len(vocabulary))"
   ]
  },
  {
   "cell_type": "code",
   "execution_count": 7,
   "metadata": {},
   "outputs": [
    {
     "name": "stdout",
     "output_type": "stream",
     "text": [
      "anarchism 0\n"
     ]
    }
   ],
   "source": [
    "print(vocabulary[0], data[0])"
   ]
  },
  {
   "cell_type": "code",
   "execution_count": 8,
   "metadata": {},
   "outputs": [],
   "source": [
    "max_common = max(count.values())\n",
    "for i in count.keys() :\n",
    "    if count[i] == max_common :\n",
    "        max_common_word = i"
   ]
  },
  {
   "cell_type": "code",
   "execution_count": 9,
   "metadata": {},
   "outputs": [
    {
     "name": "stdout",
     "output_type": "stream",
     "text": [
      "Most common word :  the\n"
     ]
    }
   ],
   "source": [
    "print(\"Most common word : \", max_common_word)"
   ]
  },
  {
   "cell_type": "code",
   "execution_count": 10,
   "metadata": {},
   "outputs": [
    {
     "name": "stdout",
     "output_type": "stream",
     "text": [
      "['anarchism', 'originated', 'as', 'a', 'term', 'of', 'abuse', 'first', 'used', 'against'] [0, 1, 2, 3, 4, 5, 6, 7, 8, 9]\n"
     ]
    }
   ],
   "source": [
    "print(vocabulary[:10], data[:10])"
   ]
  },
  {
   "cell_type": "markdown",
   "metadata": {},
   "source": [
    "##### batch와 label 생성"
   ]
  },
  {
   "cell_type": "code",
   "execution_count": 11,
   "metadata": {},
   "outputs": [],
   "source": [
    "def generate_batch(batch_size, num_skips, skip_window, data_index) :\n",
    "    \n",
    "    assert batch_size % num_skips == 0\n",
    "    assert num_skips <= 2 * skip_window\n",
    "    \n",
    "    batch_cnt = 0\n",
    "    batch = np.ndarray(shape=(batch_size), dtype=np.int32)\n",
    "    labels = np.ndarray(shape=(batch_size, 1), dtype=np.int32)\n",
    "    imsi_batch = np.ndarray(shape=(skip_window*2), dtype=np.int32)\n",
    "    imsi_labels = np.ndarray(shape=(skip_window*2, 1), dtype=np.int32)\n",
    "    while batch_cnt < batch_size :\n",
    "        batch_pnt = data_index + skip_window\n",
    "        for i in range(0,skip_window) :\n",
    "            imsi_batch[i] = data[batch_pnt]\n",
    "            imsi_labels[i,0] = data[batch_pnt-i-1]\n",
    "        for i in range(0,skip_window) :\n",
    "            imsi_batch[skip_window+i] = data[batch_pnt]\n",
    "            imsi_labels[skip_window+i,0] = data[batch_pnt+i+1]\n",
    "        \n",
    "        skips = random.sample(range(0, 2*skip_window), num_skips)\n",
    "        for i in skips :\n",
    "            batch[batch_cnt] = imsi_batch[i]\n",
    "            labels[batch_cnt] = imsi_labels[i]\n",
    "            batch_cnt += 1\n",
    "        data_index += 1\n",
    "        \n",
    "    return batch, labels, data_index"
   ]
  },
  {
   "cell_type": "code",
   "execution_count": 20,
   "metadata": {},
   "outputs": [],
   "source": [
    "batch_size = 8\n",
    "num_skips = 2\n",
    "skip_window = 1\n",
    "data_index = 0"
   ]
  },
  {
   "cell_type": "code",
   "execution_count": 21,
   "metadata": {},
   "outputs": [],
   "source": [
    "batch_inputs, batch_labels, data_index = generate_batch(batch_size, num_skips, skip_window, data_index)"
   ]
  },
  {
   "cell_type": "code",
   "execution_count": 22,
   "metadata": {},
   "outputs": [
    {
     "name": "stdout",
     "output_type": "stream",
     "text": [
      "['anarchism', 'originated', 'as', 'a', 'term', 'of', 'abuse', 'first', 'used', 'against']\n",
      "[0, 1, 2, 3, 4, 5, 6, 7, 8, 9]\n"
     ]
    }
   ],
   "source": [
    "print(vocabulary[:10])\n",
    "print(data[:10])"
   ]
  },
  {
   "cell_type": "code",
   "execution_count": 23,
   "metadata": {},
   "outputs": [
    {
     "name": "stdout",
     "output_type": "stream",
     "text": [
      "1 originated -> 2 as\n",
      "1 originated -> 0 anarchism\n",
      "2 as -> 1 originated\n",
      "2 as -> 3 a\n",
      "3 a -> 2 as\n",
      "3 a -> 4 term\n",
      "4 term -> 5 of\n",
      "4 term -> 3 a\n"
     ]
    }
   ],
   "source": [
    "for i in range(batch_size):\n",
    "    print(batch_inputs[i], reverse_dictionary[batch_inputs[i]], '->', batch_labels[i, 0],\n",
    "          reverse_dictionary[batch_labels[i, 0]])"
   ]
  },
  {
   "cell_type": "code",
   "execution_count": null,
   "metadata": {},
   "outputs": [],
   "source": [
    "train_inputs = tf.placeholder(tf.int32, shape=[batch_size])\n",
    "train_labels = tf.placeholder(tf.int32, shape=[batch_size, 1])"
   ]
  }
 ],
 "metadata": {
  "kernelspec": {
   "display_name": "Python 3",
   "language": "python",
   "name": "python3"
  },
  "language_info": {
   "codemirror_mode": {
    "name": "ipython",
    "version": 3
   },
   "file_extension": ".py",
   "mimetype": "text/x-python",
   "name": "python",
   "nbconvert_exporter": "python",
   "pygments_lexer": "ipython3",
   "version": "3.5.6"
  }
 },
 "nbformat": 4,
 "nbformat_minor": 2
}
