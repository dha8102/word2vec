{
 "cells": [
  {
   "cell_type": "code",
   "execution_count": 30,
   "metadata": {},
   "outputs": [],
   "source": [
    "import tensorflow as tf\n",
    "import numpy as np\n",
    "import collections\n",
    "import random\n",
    "import math\n",
    "tf.set_random_seed(777)"
   ]
  },
  {
   "cell_type": "code",
   "execution_count": 3,
   "metadata": {},
   "outputs": [
    {
     "name": "stdout",
     "output_type": "stream",
     "text": [
      "[[1 2 3]\n",
      " [4 5 6]]\n"
     ]
    }
   ],
   "source": [
    "test1 = tf.constant([[1,2,3],[4,5,6],[7,8,9]])\n",
    "test2 = tf.constant([0,1])\n",
    "test3 = tf.nn.embedding_lookup(test1,test2)\n",
    "init_op = tf.global_variables_initializer()\n",
    "sess = tf.Session()\n",
    "sess.run(init_op)\n",
    "print(sess.run(test3))"
   ]
  },
  {
   "cell_type": "code",
   "execution_count": 4,
   "metadata": {},
   "outputs": [],
   "source": [
    "f = open(\"../text8\", 'r', encoding='UTF8')\n",
    "line = f.readline().split()\n",
    "f.close()"
   ]
  },
  {
   "cell_type": "code",
   "execution_count": 5,
   "metadata": {},
   "outputs": [],
   "source": [
    "dictionary = {}\n",
    "count = {}\n",
    "vocabulary = []\n",
    "data = []\n",
    "reverse_dictionary = {}"
   ]
  },
  {
   "cell_type": "code",
   "execution_count": 6,
   "metadata": {},
   "outputs": [
    {
     "name": "stdout",
     "output_type": "stream",
     "text": [
      "253854\n"
     ]
    }
   ],
   "source": [
    "# dictionary 생성\n",
    "dic_cnt = 0\n",
    "for i in line :\n",
    "    if i not in dictionary.keys() :\n",
    "        dictionary[i] = dic_cnt\n",
    "        dic_cnt += 1\n",
    "    if i in count.keys() : \n",
    "        count[i] += 1\n",
    "    else :\n",
    "        count[i] = 1\n",
    "    vocabulary.append(i)\n",
    "    data.append(dictionary[i])\n",
    "print(len(dictionary))"
   ]
  },
  {
   "cell_type": "code",
   "execution_count": 7,
   "metadata": {},
   "outputs": [],
   "source": [
    "for i in dictionary.keys() :\n",
    "    reverse_dictionary[dictionary[i]] = i"
   ]
  },
  {
   "cell_type": "code",
   "execution_count": 8,
   "metadata": {},
   "outputs": [
    {
     "name": "stdout",
     "output_type": "stream",
     "text": [
      "17005207\n"
     ]
    }
   ],
   "source": [
    "print(len(vocabulary))"
   ]
  },
  {
   "cell_type": "code",
   "execution_count": 9,
   "metadata": {},
   "outputs": [
    {
     "name": "stdout",
     "output_type": "stream",
     "text": [
      "anarchism 0\n"
     ]
    }
   ],
   "source": [
    "print(vocabulary[0], data[0])"
   ]
  },
  {
   "cell_type": "code",
   "execution_count": 10,
   "metadata": {},
   "outputs": [],
   "source": [
    "max_common = max(count.values())\n",
    "for i in count.keys() :\n",
    "    if count[i] == max_common :\n",
    "        max_common_word = i"
   ]
  },
  {
   "cell_type": "code",
   "execution_count": 11,
   "metadata": {},
   "outputs": [
    {
     "name": "stdout",
     "output_type": "stream",
     "text": [
      "Most common word :  the\n"
     ]
    }
   ],
   "source": [
    "print(\"Most common word : \", max_common_word)"
   ]
  },
  {
   "cell_type": "code",
   "execution_count": 15,
   "metadata": {},
   "outputs": [
    {
     "name": "stdout",
     "output_type": "stream",
     "text": [
      "['anarchism', 'originated', 'as', 'a', 'term', 'of', 'abuse', 'first', 'used', 'against'] [0, 1, 2, 3, 4, 5, 6, 7, 8, 9]\n"
     ]
    }
   ],
   "source": [
    "print(vocabulary[:10], data[:10])"
   ]
  },
  {
   "cell_type": "markdown",
   "metadata": {},
   "source": [
    "##### batch와 label 생성"
   ]
  },
  {
   "cell_type": "code",
   "execution_count": 16,
   "metadata": {},
   "outputs": [],
   "source": [
    "def generate_batch(batch_size, num_skips, skip_window, data_index) :\n",
    "    \n",
    "    assert batch_size % num_skips == 0\n",
    "    assert num_skips <= 2 * skip_window\n",
    "    \n",
    "    batch_cnt = 0\n",
    "    batch = np.ndarray(shape=(batch_size), dtype=np.int32)\n",
    "    labels = np.ndarray(shape=(batch_size, 1), dtype=np.int32)\n",
    "    imsi_batch = np.ndarray(shape=(skip_window*2), dtype=np.int32)\n",
    "    imsi_labels = np.ndarray(shape=(skip_window*2, 1), dtype=np.int32)\n",
    "    while batch_cnt < batch_size :\n",
    "        batch_pnt = data_index + skip_window\n",
    "        for i in range(0,skip_window) :\n",
    "            imsi_batch[i] = data[batch_pnt]\n",
    "            imsi_labels[i,0] = data[batch_pnt-i-1]\n",
    "        for i in range(0,skip_window) :\n",
    "            imsi_batch[skip_window+i] = data[batch_pnt]\n",
    "            imsi_labels[skip_window+i,0] = data[batch_pnt+i+1]\n",
    "        \n",
    "        skips = random.sample(range(0, 2*skip_window), num_skips)\n",
    "        for i in skips :\n",
    "            batch[batch_cnt] = imsi_batch[i]\n",
    "            labels[batch_cnt] = imsi_labels[i]\n",
    "            batch_cnt += 1\n",
    "        data_index += 1\n",
    "        if data_index == len(vocabulary) :\n",
    "            data_index = 0\n",
    "    return batch, labels, data_index"
   ]
  },
  {
   "cell_type": "code",
   "execution_count": 21,
   "metadata": {},
   "outputs": [],
   "source": [
    "batch_size = 8\n",
    "num_skips = 2\n",
    "skip_window = 1\n",
    "data_index = 0"
   ]
  },
  {
   "cell_type": "code",
   "execution_count": 19,
   "metadata": {},
   "outputs": [],
   "source": [
    "batch_inputs, batch_labels, data_index = generate_batch(batch_size, num_skips, skip_window, data_index)"
   ]
  },
  {
   "cell_type": "code",
   "execution_count": 22,
   "metadata": {},
   "outputs": [
    {
     "name": "stdout",
     "output_type": "stream",
     "text": [
      "['anarchism', 'originated', 'as', 'a', 'term', 'of', 'abuse', 'first', 'used', 'against']\n",
      "[0, 1, 2, 3, 4, 5, 6, 7, 8, 9]\n"
     ]
    }
   ],
   "source": [
    "print(vocabulary[:10])\n",
    "print(data[:10])"
   ]
  },
  {
   "cell_type": "code",
   "execution_count": 23,
   "metadata": {},
   "outputs": [
    {
     "name": "stdout",
     "output_type": "stream",
     "text": [
      "1 originated -> 2 as\n",
      "1 originated -> 0 anarchism\n",
      "2 as -> 3 a\n",
      "2 as -> 1 originated\n",
      "3 a -> 2 as\n",
      "3 a -> 4 term\n",
      "4 term -> 3 a\n",
      "4 term -> 5 of\n"
     ]
    }
   ],
   "source": [
    "for i in range(batch_size):\n",
    "    print(batch_inputs[i], reverse_dictionary[batch_inputs[i]], '->', batch_labels[i, 0],\n",
    "          reverse_dictionary[batch_labels[i, 0]])"
   ]
  },
  {
   "cell_type": "code",
   "execution_count": 27,
   "metadata": {},
   "outputs": [],
   "source": [
    "# hyper-parameter 생성\n",
    "batch_size = 128\n",
    "vocabulary_size = len(vocabulary)\n",
    "embedding_size = 128 \n",
    "skip_window = 1 \n",
    "num_skips = 2  \n",
    "num_sampled = 64  "
   ]
  },
  {
   "cell_type": "code",
   "execution_count": 35,
   "metadata": {},
   "outputs": [],
   "source": [
    "valid_size = 16  \n",
    "valid_window = 100  \n",
    "valid_examples = np.random.choice(valid_window, valid_size, replace=False)"
   ]
  },
  {
   "cell_type": "code",
   "execution_count": 36,
   "metadata": {},
   "outputs": [],
   "source": [
    "# minibatch 설정\n",
    "train_inputs = tf.placeholder(tf.int32, shape=[batch_size])\n",
    "train_labels = tf.placeholder(tf.int32, shape=[batch_size, 1])\n",
    "valid_dataset = tf.constant(valid_examples, dtype=tf.int32)"
   ]
  },
  {
   "cell_type": "code",
   "execution_count": 28,
   "metadata": {},
   "outputs": [],
   "source": [
    "# embeddings 설정\n",
    "embeddings = tf.Variable(tf.random_uniform([vocabulary_size, embedding_size], -1.0, 1.0))\n",
    "embed = tf.nn.embedding_lookup(embeddings, train_inputs)"
   ]
  },
  {
   "cell_type": "code",
   "execution_count": 31,
   "metadata": {},
   "outputs": [],
   "source": [
    "# projection 설정\n",
    "nce_weights = tf.Variable(tf.truncated_normal([vocabulary_size, embedding_size],\n",
    "                                stddev=1.0 / math.sqrt(embedding_size)))\n",
    "nce_biases = tf.Variable(tf.zeros([vocabulary_size]))"
   ]
  },
  {
   "cell_type": "code",
   "execution_count": 32,
   "metadata": {},
   "outputs": [
    {
     "data": {
      "text/plain": [
       "<tf.Tensor 'loss:0' shape=() dtype=string>"
      ]
     },
     "execution_count": 32,
     "metadata": {},
     "output_type": "execute_result"
    }
   ],
   "source": [
    "# loss 설정\n",
    "loss = tf.reduce_mean(\n",
    "          tf.nn.nce_loss(\n",
    "              weights=nce_weights,\n",
    "              biases=nce_biases,\n",
    "              labels=train_labels,\n",
    "              inputs=embed,\n",
    "              num_sampled=num_sampled,\n",
    "              num_classes=vocabulary_size))"
   ]
  },
  {
   "cell_type": "code",
   "execution_count": 33,
   "metadata": {},
   "outputs": [],
   "source": [
    "optimizer = tf.train.GradientDescentOptimizer(1.0).minimize(loss)"
   ]
  },
  {
   "cell_type": "code",
   "execution_count": 37,
   "metadata": {},
   "outputs": [],
   "source": [
    "# minibatch와 전채 embedding 사이의 cosine 유사도 계산\n",
    "# 해당 데이터와 가장 유사도 높은 단어를 끄집어 내 보려고\n",
    "norm = tf.sqrt(tf.reduce_sum(tf.square(embeddings), 1, keepdims=True))\n",
    "normalized_embeddings = embeddings / norm\n",
    "valid_embeddings = tf.nn.embedding_lookup(normalized_embeddings, valid_dataset)\n",
    "similarity = tf.matmul(valid_embeddings, normalized_embeddings, transpose_b=True)"
   ]
  },
  {
   "cell_type": "code",
   "execution_count": 38,
   "metadata": {},
   "outputs": [],
   "source": [
    "init = tf.global_variables_initializer()"
   ]
  },
  {
   "cell_type": "code",
   "execution_count": 39,
   "metadata": {},
   "outputs": [],
   "source": [
    "num_steps = 1000001"
   ]
  },
  {
   "cell_type": "code",
   "execution_count": null,
   "metadata": {},
   "outputs": [],
   "source": [
    "average_loss, data_index = 0, 0\n",
    "with tf.Session() as sess :\n",
    "    sess.run(tf.global_variables_initializer())\n",
    "    for step in range(num_steps):\n",
    "        batch_inputs, batch_labels, data_index = generate_batch(data, batch_size, num_skips, skip_window, data_index)\n",
    "    feed_dict = {train_inputs: batch_inputs, train_labels: batch_labels}\n",
    "    _, loss_val = session.run([optimizer, loss], feed_dict=feed_dict)\n",
    "    average_loss += loss_val\n",
    "    if step % 2000 == 0:\n",
    "        if step > 0:\n",
    "            average_loss /= 2000\n",
    "        print('Average loss at step {} : {}'.format(step, average_loss))\n",
    "        average_loss = 0\n",
    "    if step % 10000 == 0:\n",
    "        sim = similarity.eval()         # (16, 50000)\n",
    "        for i in range(valid_size):\n",
    "            valid_word = reverse_dictionary[valid_examples[i]]\n",
    "            print(\"Nearest to %s :\"%valid_word, end = \" \")\n",
    "            top_k = 8\n",
    "            nearest = (-sim[i, :]).argsort()[1:top_k + 1]\n",
    "            for k in xrange(top_k):\n",
    "                close_word = reverse_dictionary[nearest[k]]\n",
    "                print(\"%s,\"%close_word, end=\" \")\n",
    "        "
   ]
  },
  {
   "cell_type": "code",
   "execution_count": null,
   "metadata": {},
   "outputs": [],
   "source": []
  }
 ],
 "metadata": {
  "kernelspec": {
   "display_name": "Python 3",
   "language": "python",
   "name": "python3"
  },
  "language_info": {
   "codemirror_mode": {
    "name": "ipython",
    "version": 3
   },
   "file_extension": ".py",
   "mimetype": "text/x-python",
   "name": "python",
   "nbconvert_exporter": "python",
   "pygments_lexer": "ipython3",
   "version": "3.5.6"
  }
 },
 "nbformat": 4,
 "nbformat_minor": 2
}
